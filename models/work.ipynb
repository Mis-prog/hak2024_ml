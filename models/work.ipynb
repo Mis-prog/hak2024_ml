{
 "cells": [
  {
   "cell_type": "code",
   "execution_count": 1,
   "metadata": {},
   "outputs": [],
   "source": [
    "import numpy as np \n",
    "import matplotlib.pyplot as pl\n",
    "import pandas as pd"
   ]
  },
  {
   "cell_type": "code",
   "execution_count": 2,
   "metadata": {},
   "outputs": [],
   "source": [
    "data_russian = pd.read_csv(\"ussr_russia.csv\",sep=\";\")\n",
    "data_usa=pd.read_csv(\"usa.csv\",sep=\";\")\n",
    "data_bloggers=pd.read_csv(\"bloggers.csv\",sep=\";\")"
   ]
  },
  {
   "cell_type": "code",
   "execution_count": 3,
   "metadata": {},
   "outputs": [
    {
     "data": {
      "text/html": [
       "<div>\n",
       "<style scoped>\n",
       "    .dataframe tbody tr th:only-of-type {\n",
       "        vertical-align: middle;\n",
       "    }\n",
       "\n",
       "    .dataframe tbody tr th {\n",
       "        vertical-align: top;\n",
       "    }\n",
       "\n",
       "    .dataframe thead th {\n",
       "        text-align: right;\n",
       "    }\n",
       "</style>\n",
       "<table border=\"1\" class=\"dataframe\">\n",
       "  <thead>\n",
       "    <tr style=\"text-align: right;\">\n",
       "      <th></th>\n",
       "      <th>id</th>\n",
       "    </tr>\n",
       "  </thead>\n",
       "  <tbody>\n",
       "    <tr>\n",
       "      <th>count</th>\n",
       "      <td>10442.000000</td>\n",
       "    </tr>\n",
       "    <tr>\n",
       "      <th>mean</th>\n",
       "      <td>15049.323980</td>\n",
       "    </tr>\n",
       "    <tr>\n",
       "      <th>std</th>\n",
       "      <td>12810.734448</td>\n",
       "    </tr>\n",
       "    <tr>\n",
       "      <th>min</th>\n",
       "      <td>0.000000</td>\n",
       "    </tr>\n",
       "    <tr>\n",
       "      <th>25%</th>\n",
       "      <td>4122.250000</td>\n",
       "    </tr>\n",
       "    <tr>\n",
       "      <th>50%</th>\n",
       "      <td>11759.500000</td>\n",
       "    </tr>\n",
       "    <tr>\n",
       "      <th>75%</th>\n",
       "      <td>23021.750000</td>\n",
       "    </tr>\n",
       "    <tr>\n",
       "      <th>max</th>\n",
       "      <td>47472.000000</td>\n",
       "    </tr>\n",
       "  </tbody>\n",
       "</table>\n",
       "</div>"
      ],
      "text/plain": [
       "                 id\n",
       "count  10442.000000\n",
       "mean   15049.323980\n",
       "std    12810.734448\n",
       "min        0.000000\n",
       "25%     4122.250000\n",
       "50%    11759.500000\n",
       "75%    23021.750000\n",
       "max    47472.000000"
      ]
     },
     "execution_count": 3,
     "metadata": {},
     "output_type": "execute_result"
    }
   ],
   "source": [
    "data_russian.describe()\n"
   ]
  },
  {
   "cell_type": "code",
   "execution_count": 4,
   "metadata": {},
   "outputs": [
    {
     "data": {
      "text/html": [
       "<div>\n",
       "<style scoped>\n",
       "    .dataframe tbody tr th:only-of-type {\n",
       "        vertical-align: middle;\n",
       "    }\n",
       "\n",
       "    .dataframe tbody tr th {\n",
       "        vertical-align: top;\n",
       "    }\n",
       "\n",
       "    .dataframe thead th {\n",
       "        text-align: right;\n",
       "    }\n",
       "</style>\n",
       "<table border=\"1\" class=\"dataframe\">\n",
       "  <thead>\n",
       "    <tr style=\"text-align: right;\">\n",
       "      <th></th>\n",
       "      <th>id</th>\n",
       "    </tr>\n",
       "  </thead>\n",
       "  <tbody>\n",
       "    <tr>\n",
       "      <th>count</th>\n",
       "      <td>6049.000000</td>\n",
       "    </tr>\n",
       "    <tr>\n",
       "      <th>mean</th>\n",
       "      <td>26972.087948</td>\n",
       "    </tr>\n",
       "    <tr>\n",
       "      <th>std</th>\n",
       "      <td>17028.247594</td>\n",
       "    </tr>\n",
       "    <tr>\n",
       "      <th>min</th>\n",
       "      <td>1.000000</td>\n",
       "    </tr>\n",
       "    <tr>\n",
       "      <th>25%</th>\n",
       "      <td>12416.000000</td>\n",
       "    </tr>\n",
       "    <tr>\n",
       "      <th>50%</th>\n",
       "      <td>25316.000000</td>\n",
       "    </tr>\n",
       "    <tr>\n",
       "      <th>75%</th>\n",
       "      <td>41060.000000</td>\n",
       "    </tr>\n",
       "    <tr>\n",
       "      <th>max</th>\n",
       "      <td>59491.000000</td>\n",
       "    </tr>\n",
       "  </tbody>\n",
       "</table>\n",
       "</div>"
      ],
      "text/plain": [
       "                 id\n",
       "count   6049.000000\n",
       "mean   26972.087948\n",
       "std    17028.247594\n",
       "min        1.000000\n",
       "25%    12416.000000\n",
       "50%    25316.000000\n",
       "75%    41060.000000\n",
       "max    59491.000000"
      ]
     },
     "execution_count": 4,
     "metadata": {},
     "output_type": "execute_result"
    }
   ],
   "source": [
    "data_usa.describe()"
   ]
  },
  {
   "cell_type": "code",
   "execution_count": 5,
   "metadata": {},
   "outputs": [
    {
     "data": {
      "text/html": [
       "<div>\n",
       "<style scoped>\n",
       "    .dataframe tbody tr th:only-of-type {\n",
       "        vertical-align: middle;\n",
       "    }\n",
       "\n",
       "    .dataframe tbody tr th {\n",
       "        vertical-align: top;\n",
       "    }\n",
       "\n",
       "    .dataframe thead th {\n",
       "        text-align: right;\n",
       "    }\n",
       "</style>\n",
       "<table border=\"1\" class=\"dataframe\">\n",
       "  <thead>\n",
       "    <tr style=\"text-align: right;\">\n",
       "      <th></th>\n",
       "      <th>id</th>\n",
       "    </tr>\n",
       "  </thead>\n",
       "  <tbody>\n",
       "    <tr>\n",
       "      <th>count</th>\n",
       "      <td>419.000000</td>\n",
       "    </tr>\n",
       "    <tr>\n",
       "      <th>mean</th>\n",
       "      <td>234.124105</td>\n",
       "    </tr>\n",
       "    <tr>\n",
       "      <th>std</th>\n",
       "      <td>135.415253</td>\n",
       "    </tr>\n",
       "    <tr>\n",
       "      <th>min</th>\n",
       "      <td>0.000000</td>\n",
       "    </tr>\n",
       "    <tr>\n",
       "      <th>25%</th>\n",
       "      <td>115.500000</td>\n",
       "    </tr>\n",
       "    <tr>\n",
       "      <th>50%</th>\n",
       "      <td>236.000000</td>\n",
       "    </tr>\n",
       "    <tr>\n",
       "      <th>75%</th>\n",
       "      <td>351.500000</td>\n",
       "    </tr>\n",
       "    <tr>\n",
       "      <th>max</th>\n",
       "      <td>469.000000</td>\n",
       "    </tr>\n",
       "  </tbody>\n",
       "</table>\n",
       "</div>"
      ],
      "text/plain": [
       "               id\n",
       "count  419.000000\n",
       "mean   234.124105\n",
       "std    135.415253\n",
       "min      0.000000\n",
       "25%    115.500000\n",
       "50%    236.000000\n",
       "75%    351.500000\n",
       "max    469.000000"
      ]
     },
     "execution_count": 5,
     "metadata": {},
     "output_type": "execute_result"
    }
   ],
   "source": [
    "data_bloggers.describe()"
   ]
  },
  {
   "cell_type": "code",
   "execution_count": 6,
   "metadata": {},
   "outputs": [],
   "source": [
    "from keras.preprocessing import image\n",
    "from keras.applications.imagenet_utils import decode_predictions, preprocess_input\n",
    "from keras.models import Model\n",
    "import keras\n",
    "import cv2\n",
    "import os\n",
    "import shutil\n",
    "from PIL import Image"
   ]
  },
  {
   "cell_type": "code",
   "execution_count": 7,
   "metadata": {},
   "outputs": [],
   "source": [
    "def move_images_with_annotations(root_folder, target_folder):\n",
    "    for root, dirs, files in os.walk(root_folder):\n",
    "        for file in files:\n",
    "            image_path = os.path.join(root, file[:-4]+\".jpg\")\n",
    "            annotation_path = os.path.join(root, file[:-4] + \".txt\")  \n",
    "            target_subfolder = os.path.join(target_folder, os.path.relpath(root, root_folder))\n",
    "            os.makedirs(target_subfolder, exist_ok=True)\n",
    "\n",
    "            with open(annotation_path, \"r\") as f:\n",
    "                for line in f:\n",
    "                    params = line.split()\n",
    "                    if len(params) >= 5:  # Проверяем, что есть хотя бы 5 значений в строке\n",
    "                        center_x, center_y, width, height = map(float, params[1:5])\n",
    "                        x1 = float(center_x - width / 2)\n",
    "                        y1 = float(center_y - height / 2)\n",
    "                        x2 = float(center_x + width / 2)\n",
    "                        y2 = float(center_y + height / 2)\n",
    "                        \n",
    "                        image = cv2.imread(image_path)\n",
    "                        cropped_image = image[int(image.shape[0]*y1):int(image.shape[0]*y2), int(image.shape[1]*x1):int(image.shape[1]*x2)]\n",
    "                        target_image_path = os.path.join(target_subfolder, file[:-4] + \"_cropped.jpg\")\n",
    "\n",
    "                        if cropped_image.size == 0:  # Проверяем, что размерность массива не равна нулю\n",
    "                            continue\n",
    "                        \n",
    "                        cv2.imwrite(target_image_path, cropped_image)\n",
    "                        \n",
    "                        break\n",
    "\n",
    "            # with open(annotation_path, \"r\") as f:\n",
    "            #     line=f.readline()\n",
    "            #     params = line.strip().split()\n",
    "            #     center_x, center_y, width, height = map(float, params[1:5])\n",
    "            #     x1 = float(center_x - width / 2)\n",
    "            #     y1 = float(center_y - height / 2)\n",
    "            #     x2 = float(center_x + width / 2)\n",
    "            #     y2 = float(center_y + height / 2)\n",
    "                \n",
    "            #     image = cv2.imread(image_path)\n",
    "            #     cropped_image = image[int(image.shape[1]*y1):int(image.shape[1]*y2), int(image.shape[0]*x1):int(image.shape[0]*x2)]\n",
    "            #     target_image_path = os.path.join(target_subfolder, file[:-4] + \"_cropped.jpg\")\n",
    "            #     cv2.imwrite(target_image_path, cropped_image)\n",
    "            # cv2.imwrite(image_path,cropped)\n",
    "            # shutil.copy(cropped, target_subfolder)\n",
    "            # shutil.copy(annotation_path, target_subfolder)\n",
    "\n",
    "            \n",
    "\n",
    "        \n"
   ]
  },
  {
   "cell_type": "code",
   "execution_count": 11,
   "metadata": {},
   "outputs": [],
   "source": [
    "from imutils import paths\n",
    "import face_recognition\n",
    "import pickle\n",
    "import cv2\n",
    "import os"
   ]
  },
  {
   "cell_type": "code",
   "execution_count": 13,
   "metadata": {},
   "outputs": [
    {
     "ename": "TypeError",
     "evalue": "write() argument must be str, not bytes",
     "output_type": "error",
     "traceback": [
      "\u001b[1;31m---------------------------------------------------------------------------\u001b[0m",
      "\u001b[1;31mTypeError\u001b[0m                                 Traceback (most recent call last)",
      "Cell \u001b[1;32mIn[13], line 24\u001b[0m\n\u001b[0;32m     22\u001b[0m \u001b[38;5;66;03m# для сохранения данных в файл используем метод pickle\u001b[39;00m\n\u001b[0;32m     23\u001b[0m f \u001b[38;5;241m=\u001b[39m \u001b[38;5;28mopen\u001b[39m(\u001b[38;5;124m\"\u001b[39m\u001b[38;5;124mface_enc\u001b[39m\u001b[38;5;124m\"\u001b[39m, \u001b[38;5;124m\"\u001b[39m\u001b[38;5;124mw\u001b[39m\u001b[38;5;124m\"\u001b[39m)\n\u001b[1;32m---> 24\u001b[0m f\u001b[38;5;241m.\u001b[39mwrite(pickle\u001b[38;5;241m.\u001b[39mdumps(data))\n\u001b[0;32m     25\u001b[0m f\u001b[38;5;241m.\u001b[39mclose()\n",
      "\u001b[1;31mTypeError\u001b[0m: write() argument must be str, not bytes"
     ]
    }
   ],
   "source": [
    "imagePaths = list(paths.list_images('bloggers_cropped_new'))\n",
    "knownEncodings = []\n",
    "knownNames = []\n",
    "# перебираем все папки с изображениями\n",
    "for (i, imagePath) in enumerate(imagePaths):\n",
    "    # извлекаем имя человека из названия папки\n",
    "    name = imagePath.split(os.path.sep)\n",
    "    # загружаем изображение и конвертируем его из BGR (OpenCV ordering)\n",
    "    # в dlib ordering (RGB)\n",
    "    image = cv2.imread(imagePath)\n",
    "    rgb = cv2.cvtColor(image, cv2.COLOR_BGR2RGB)\n",
    "    # используем библиотеку Face_recognition для обнаружения лиц\n",
    "    boxes = face_recognition.face_locations(rgb, model='hog')\n",
    "    # вычисляем эмбеддинги для каждого лица\n",
    "    encodings = face_recognition.face_encodings(rgb, boxes)\n",
    "    # loop over the encodings\n",
    "    for encoding in encodings:\n",
    "        knownEncodings.append(encoding)\n",
    "        knownNames.append(name)\n",
    "# сохраним эмбеддинги вместе с их именами в формате словаря\n",
    "data = {\"encodings\": knownEncodings, \"names\": knownNames}\n",
    "# для сохранения данных в файл используем метод pickle\n",
    "f = open(\"face_enc\", \"w\")\n",
    "f.write(data)\n",
    "f.close()"
   ]
  },
  {
   "cell_type": "code",
   "execution_count": 14,
   "metadata": {},
   "outputs": [
    {
     "data": {
      "text/html": [
       "<div>\n",
       "<style scoped>\n",
       "    .dataframe tbody tr th:only-of-type {\n",
       "        vertical-align: middle;\n",
       "    }\n",
       "\n",
       "    .dataframe tbody tr th {\n",
       "        vertical-align: top;\n",
       "    }\n",
       "\n",
       "    .dataframe thead th {\n",
       "        text-align: right;\n",
       "    }\n",
       "</style>\n",
       "<table border=\"1\" class=\"dataframe\">\n",
       "  <thead>\n",
       "    <tr style=\"text-align: right;\">\n",
       "      <th></th>\n",
       "      <th>id</th>\n",
       "      <th>name</th>\n",
       "      <th>link</th>\n",
       "      <th>specialization</th>\n",
       "      <th>films_years</th>\n",
       "      <th>description</th>\n",
       "      <th>path_to_folder</th>\n",
       "    </tr>\n",
       "  </thead>\n",
       "  <tbody>\n",
       "    <tr>\n",
       "      <th>0</th>\n",
       "      <td>3250</td>\n",
       "      <td>Полина Лазарева</td>\n",
       "      <td>https://www.kinopoisk.ru/name/1691869</td>\n",
       "      <td>Актриса,Режиссер,Сценарист</td>\n",
       "      <td>21, 1997 — 2024</td>\n",
       "      <td>Операция «Мухаббат»,Екатерина,Город,Скажи правду</td>\n",
       "      <td>actors_ussr_russia/3250</td>\n",
       "    </tr>\n",
       "    <tr>\n",
       "      <th>1</th>\n",
       "      <td>8125</td>\n",
       "      <td>Александр Мосолов</td>\n",
       "      <td>https://www.kinopoisk.ru/name/2201119</td>\n",
       "      <td>Актер</td>\n",
       "      <td>85, 1993 — 2023</td>\n",
       "      <td>Летчик,Лихач,Ментовские войны 8,Первый отдел,Н...</td>\n",
       "      <td>actors_ussr_russia/8125</td>\n",
       "    </tr>\n",
       "    <tr>\n",
       "      <th>2</th>\n",
       "      <td>1625</td>\n",
       "      <td>Евгения Лютая</td>\n",
       "      <td>https://www.kinopoisk.ru/name/1671773</td>\n",
       "      <td>Актриса</td>\n",
       "      <td>44, 2000 — 2022</td>\n",
       "      <td>Охотники за караванами,Дети Арбата,Склифосовск...</td>\n",
       "      <td>actors_ussr_russia/1625</td>\n",
       "    </tr>\n",
       "    <tr>\n",
       "      <th>3</th>\n",
       "      <td>23692</td>\n",
       "      <td>Никита Тезин</td>\n",
       "      <td>https://www.kinopoisk.ru/name/1746570</td>\n",
       "      <td>Актер</td>\n",
       "      <td>45, 2004 — 2023</td>\n",
       "      <td>Битва за Севастополь,Молодая гвардия,Жизнь и с...</td>\n",
       "      <td>actors_ussr_russia/23692</td>\n",
       "    </tr>\n",
       "    <tr>\n",
       "      <th>4</th>\n",
       "      <td>44589</td>\n",
       "      <td>Янис Кирмушка</td>\n",
       "      <td>https://www.kinopoisk.ru/name/1124881</td>\n",
       "      <td>Актер</td>\n",
       "      <td>4, 2005 — 2016</td>\n",
       "      <td>NaN</td>\n",
       "      <td>actors_ussr_russia/44589</td>\n",
       "    </tr>\n",
       "  </tbody>\n",
       "</table>\n",
       "</div>"
      ],
      "text/plain": [
       "      id               name                                   link  \\\n",
       "0   3250    Полина Лазарева  https://www.kinopoisk.ru/name/1691869   \n",
       "1   8125  Александр Мосолов  https://www.kinopoisk.ru/name/2201119   \n",
       "2   1625      Евгения Лютая  https://www.kinopoisk.ru/name/1671773   \n",
       "3  23692       Никита Тезин  https://www.kinopoisk.ru/name/1746570   \n",
       "4  44589      Янис Кирмушка  https://www.kinopoisk.ru/name/1124881   \n",
       "\n",
       "               specialization      films_years  \\\n",
       "0  Актриса,Режиссер,Сценарист  21, 1997 — 2024   \n",
       "1                       Актер  85, 1993 — 2023   \n",
       "2                     Актриса  44, 2000 — 2022   \n",
       "3                       Актер  45, 2004 — 2023   \n",
       "4                       Актер   4, 2005 — 2016   \n",
       "\n",
       "                                         description            path_to_folder  \n",
       "0   Операция «Мухаббат»,Екатерина,Город,Скажи правду   actors_ussr_russia/3250  \n",
       "1  Летчик,Лихач,Ментовские войны 8,Первый отдел,Н...   actors_ussr_russia/8125  \n",
       "2  Охотники за караванами,Дети Арбата,Склифосовск...   actors_ussr_russia/1625  \n",
       "3  Битва за Севастополь,Молодая гвардия,Жизнь и с...  actors_ussr_russia/23692  \n",
       "4                                                NaN  actors_ussr_russia/44589  "
      ]
     },
     "execution_count": 14,
     "metadata": {},
     "output_type": "execute_result"
    }
   ],
   "source": [
    "data_russian.head()"
   ]
  },
  {
   "cell_type": "code",
   "execution_count": 17,
   "metadata": {},
   "outputs": [],
   "source": [
    "from sklearn.decomposition import PCA\n",
    "from scipy.spatial import distance"
   ]
  },
  {
   "cell_type": "code",
   "execution_count": 25,
   "metadata": {},
   "outputs": [],
   "source": [
    "pca = PCA(n_components=16)\n",
    "data_vector_blogger=pd.read_csv(\"bloggers_vector.csv\")\n",
    "features = data_vector_blogger.values\n",
    "pca.fit(features)\n",
    "pca_features = pca.transform(features)"
   ]
  },
  {
   "cell_type": "code",
   "execution_count": 26,
   "metadata": {},
   "outputs": [
    {
     "data": {
      "text/plain": [
       "array([[-2.04749997e+03, -1.56861279e+00, -2.51767399e-02, ...,\n",
       "         3.81821939e-02,  1.46279503e-02, -3.90285788e-02],\n",
       "       [-2.04649997e+03, -1.55327123e+00, -4.28734113e-02, ...,\n",
       "         7.92004921e-02,  2.91834430e-02, -2.42722684e-02],\n",
       "       [-2.04549998e+03, -1.49846592e+00,  4.94034933e-03, ...,\n",
       "        -4.16010234e-02,  5.04121682e-02, -2.72761386e-02],\n",
       "       ...,\n",
       "       [ 2.04550002e+03, -1.48115432e+00,  3.61891554e-02, ...,\n",
       "         7.54126525e-03,  1.41177613e-02, -2.01340402e-02],\n",
       "       [ 2.04650002e+03, -1.51706367e+00,  3.36086550e-02, ...,\n",
       "         3.73419038e-02,  1.21743614e-02, -1.40933685e-02],\n",
       "       [ 2.04750000e+03,  2.23361012e-01, -1.03442541e+00, ...,\n",
       "        -3.00176072e-01,  7.15080107e-02,  1.11710691e-01]])"
      ]
     },
     "execution_count": 26,
     "metadata": {},
     "output_type": "execute_result"
    }
   ],
   "source": [
    "pca_features"
   ]
  },
  {
   "cell_type": "code",
   "execution_count": 27,
   "metadata": {},
   "outputs": [
    {
     "data": {
      "text/plain": [
       "array([[0.0000000e+00, 0.0000000e+00, 0.0000000e+00, ..., 0.0000000e+00,\n",
       "        0.0000000e+00, 0.0000000e+00],\n",
       "       [1.0000000e+00, 0.0000000e+00, 0.0000000e+00, ..., 0.0000000e+00,\n",
       "        0.0000000e+00, 0.0000000e+00],\n",
       "       [2.0000000e+00, 0.0000000e+00, 0.0000000e+00, ..., 0.0000000e+00,\n",
       "        0.0000000e+00, 3.1088418e-01],\n",
       "       ...,\n",
       "       [4.0930000e+03, 0.0000000e+00, 0.0000000e+00, ..., 0.0000000e+00,\n",
       "        0.0000000e+00, 0.0000000e+00],\n",
       "       [4.0940000e+03, 0.0000000e+00, 1.4085859e-02, ..., 0.0000000e+00,\n",
       "        0.0000000e+00, 0.0000000e+00],\n",
       "       [4.0950000e+03, 2.6193947e-01, 0.0000000e+00, ..., 7.1223160e-01,\n",
       "        0.0000000e+00, 0.0000000e+00]])"
      ]
     },
     "execution_count": 27,
     "metadata": {},
     "output_type": "execute_result"
    }
   ],
   "source": [
    "data_vector_blogger.values"
   ]
  },
  {
   "cell_type": "code",
   "execution_count": null,
   "metadata": {},
   "outputs": [],
   "source": []
  }
 ],
 "metadata": {
  "kernelspec": {
   "display_name": "Python 3",
   "language": "python",
   "name": "python3"
  },
  "language_info": {
   "codemirror_mode": {
    "name": "ipython",
    "version": 3
   },
   "file_extension": ".py",
   "mimetype": "text/x-python",
   "name": "python",
   "nbconvert_exporter": "python",
   "pygments_lexer": "ipython3",
   "version": "3.11.5"
  }
 },
 "nbformat": 4,
 "nbformat_minor": 2
}
